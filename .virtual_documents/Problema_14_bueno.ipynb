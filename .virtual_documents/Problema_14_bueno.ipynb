import networkx as nx
import matplotlib.pyplot as plt
import numpy as np
import random as random





# Funcion que nos simula el modelo de preferential attachment
def preferential(N, m0):
    # Inicializamos el grafo con m0 nodos
    G = nx.Graph()
    G.add_nodes_from([i for i in range(m0)])
    
    # Unimos algún nodo de forma aleatoria con el 0 (para que despues no dividamos entre 0)
    G.add_edge(0, random.randint(0, m0))
    tiempo = []
    tiempo.append(1)
    k0 = [] # Grados del nodo 0
    k0.append(G.degree[0]/m0)
    
    # Unimos con nodos
    for i in range(m0, N):
        #total = sum(dict(G.degree()).values())
        total = sum(dict(G.degree()))
        nodos_unidos = []
        G.add_node(i)
        for j in range(len(G.nodes())):
            num = random.random()
            #print(G.degree[j]/total)
            if(num > G.degree[j]/total):
                nodos_unidos.append(j)
        for elemento in nodos_unidos:
            G.add_edge(i, elemento)
        tiempo.append(i)
        k0.append(G.degree[0]/i)
    return G, tiempo, k0

# Funcion que nos da la distribucion de probabilidad de grados
def grados(G):
    grados = nx.degree_histogram(G)
    
    plt.bar(range(len(degree_distribution)), degree_distribution, width=0.8, color='skyblue')
    plt.title("Distribución de Grados de los Nodos")
    plt.xlabel("Grado")
    plt.ylabel("Número de Nodos")
    plt.show()
    return G

# Funcion que nos da la distribucion de probabilidad y hace la regresion lineal para obtener el exponente critico
def regresion_grados(G):
    # Sacamos el poliedro de frecuencias de la distribucion de grados
    #grados = sorted([i for j, i in G.degree()], reverse = True)
    cuentas = nx.degree_histogram(G)
    grados = range(len(cuentas))
    
    # Hacemos la regresion
    x_r, y_r = [], []
    for i in range(len(grados)):
        if(cuentas[i] != 0):
            y_r.append(cuentas[i])
            x_r.append(grados[i])
    print(len(x_r))
    ajuste = np.polyfit(np.log(x_r[::-1]), np.log(y_r[:]), deg = 1)
    
    
    # Representamos
    plt.plot(np.log(x_r[::-1]), np.log(y_r[:]), 'o')
    #plt.plot(np.log(grados[::-1]), np.log(cuentas), 'o')
    plt.plot(np.log(x_r[::-1]), ajuste[0]*np.log(x_r[::-1]) + ajuste[1], '--')
    #plt.scatter(grados, cuentas, color = 'skyblue', edgecolor = 'black')
    plt.title('Distribución de grados de nodos')
    plt.xlabel('Grado')
    plt.ylabel('Frecuencia')
    plt.grid(True)
    plt.show()
    return ajuste


import networkx as nx
import matplotlib.pyplot as plt

# Crea un grafo de ejemplo
G = nx.Graph()
G.add_edges_from([(1, 2), (1, 3), (2, 3), (3, 4), (4, 5), (5, 1)])

# Calcula la distribución de grados como un histograma
degree_distribution = nx.degree_histogram(G)

# Grafica el histograma
plt.figure(figsize=(8, 6))
plt.bar(range(len(degree_distribution)), degree_distribution, color='skyblue', edgecolor='black')
plt.title("Distribución de Grados de los Nodos")
plt.xlabel("Grado")
plt.ylabel("Número de Nodos")
plt.grid(True)
plt.show()






G, tiempo, k0 = preferential(1000, 2)
#d = nx.degree_histogram(G)

# Dibujamos el grafo
pos = nx.spring_layout(G)
node_degrees = dict(G.degree())
node_size = [(node_degrees[node] + 1) for node in G.nodes()]
nx.draw(G, pos, with_labels = False, node_size = node_size, node_color = 'blue', font_size = 1, font_weight = 'bold', edge_color = 'skyblue')
plt.title('Grafo')
plt.show()
#print(d)


G = nx.Graph()
m0 = 9
G.add_nodes_from([i for i in range(m0)])
# Unimos algún nodo de forma aleatoria con el 0 (para que despues no dividamos entre 0)
G.add_edge(0, random.randint(0, m0))
list(dict(G.degree()).values())[0]
dict(G.degree())


plt.plot(np.log(tiempo[1:]), np.log(k0[:len(tiempo)-1]), 'o')


regresion_grados(G)


# Calcula la distribución de grados como un histograma
degree_distribution = nx.degree_histogram(G)
count(degree_distribution)

# Grafica el histograma
plt.figure(figsize=(8, 6))
plt.bar(range(len(degree_distribution), 0), degree_distribution, color='skyblue', edgecolor='black')
plt.title("Distribución de Grados de los Nodos")
plt.xlabel("Grado")
plt.ylabel("Número de Nodos")
plt.grid(True)
plt.show()


cuentas = [nx.degree_histogram(G).count(elemento) for elemento in range(len(G.nodes()))]
plt.plot(cuentas, 'o')
plt.xlim(0, 10)


grados = nx.degree_histogram(G)
grados[]


plt.hist([tup[1] for tup in G.degree])
plt.title("Modelo de preferential attachment (Barabási-Albert)")
plt.show()


G.degree()



